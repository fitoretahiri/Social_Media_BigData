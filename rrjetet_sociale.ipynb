{
 "cells": [
  {
   "cell_type": "code",
   "execution_count": 18,
   "id": "6d6037f1-6a88-45e0-b6f6-ecad6c389350",
   "metadata": {},
   "outputs": [],
   "source": [
    "import pyspark"
   ]
  },
  {
   "cell_type": "code",
   "execution_count": 19,
   "id": "4da6e804-9b79-41ae-bb26-6a5a21626726",
   "metadata": {},
   "outputs": [],
   "source": [
    "from pyspark.sql import SparkSession"
   ]
  },
  {
   "cell_type": "code",
   "execution_count": 20,
   "id": "c0809608-01be-461a-8c29-90c2a31da3dc",
   "metadata": {},
   "outputs": [],
   "source": [
    "spark = SparkSession.builder.appName(\"SocialNetworkAnalysis\").config(\"spark.jars\", \"C:/Big Data/graphframes/graphframes-0.8.2-spark3.0-s_2.12.jar\").getOrCreate()"
   ]
  },
  {
   "cell_type": "code",
   "execution_count": 21,
   "id": "c552f5dd-e9ad-4e7b-88a7-237b7e361223",
   "metadata": {},
   "outputs": [
    {
     "data": {
      "text/html": [
       "\n",
       "            <div>\n",
       "                <p><b>SparkSession - in-memory</b></p>\n",
       "                \n",
       "        <div>\n",
       "            <p><b>SparkContext</b></p>\n",
       "\n",
       "            <p><a href=\"http://LAPTOP-0SN8DCT8:4040\">Spark UI</a></p>\n",
       "\n",
       "            <dl>\n",
       "              <dt>Version</dt>\n",
       "                <dd><code>v3.5.4</code></dd>\n",
       "              <dt>Master</dt>\n",
       "                <dd><code>local[*]</code></dd>\n",
       "              <dt>AppName</dt>\n",
       "                <dd><code>SocialNetworkAnalysis</code></dd>\n",
       "            </dl>\n",
       "        </div>\n",
       "        \n",
       "            </div>\n",
       "        "
      ],
      "text/plain": [
       "<pyspark.sql.session.SparkSession at 0x1d71eb61cc0>"
      ]
     },
     "execution_count": 21,
     "metadata": {},
     "output_type": "execute_result"
    }
   ],
   "source": [
    "spark"
   ]
  },
  {
   "cell_type": "code",
   "execution_count": null,
   "id": "b3277fa7-39e6-47c9-b718-eb52f5b8008d",
   "metadata": {},
   "outputs": [],
   "source": [
    "spark.sparkContext.setCheckpointDir(r\"C:\\Master-Projects\\Social_Media_BigData\\checkpoints\")"
   ]
  },
  {
   "cell_type": "code",
   "execution_count": null,
   "id": "b8bd7425-041c-40b9-89c7-11ecaaa3c7b4",
   "metadata": {},
   "outputs": [],
   "source": [
    "df = spark.read.text(\"facebook_combined.txt.gz\")"
   ]
  },
  {
   "cell_type": "code",
   "execution_count": null,
   "id": "24c73271-61d7-47ad-81f3-34059d63d098",
   "metadata": {},
   "outputs": [],
   "source": [
    "df.show()"
   ]
  },
  {
   "cell_type": "code",
   "execution_count": null,
   "id": "18981f6b-4450-48ef-8eda-743c0ef913a2",
   "metadata": {},
   "outputs": [],
   "source": [
    "from pyspark.sql.functions import split, col\n",
    "from graphframes import GraphFrame"
   ]
  },
  {
   "cell_type": "code",
   "execution_count": null,
   "id": "6eff76fe-7d7c-4c18-8c88-92c49fbaa4b2",
   "metadata": {},
   "outputs": [],
   "source": [
    "edges = df.withColumn(\"src\", split(col(\"value\"), \" \")[0]).withColumn(\"dst\", split(col(\"value\"), \" \")[1]).select(\"src\", \"dst\")"
   ]
  },
  {
   "cell_type": "code",
   "execution_count": null,
   "id": "b904956e-c49e-4a69-af05-82f5a2c84c39",
   "metadata": {},
   "outputs": [],
   "source": [
    "vertices = edges.select(col(\"src\").alias(\"id\")).union(edges.select(col(\"dst\").alias(\"id\"))).distinct()"
   ]
  },
  {
   "cell_type": "code",
   "execution_count": null,
   "id": "467b25fc-1cb4-48bc-b4bb-c5064bf30c10",
   "metadata": {},
   "outputs": [],
   "source": [
    "graph = GraphFrame(vertices, edges)"
   ]
  },
  {
   "cell_type": "markdown",
   "id": "8b6a1999-2b28-4ad3-ac0e-c21e67005106",
   "metadata": {},
   "source": [
    "* a) Si mund të identifikojmë përdoruesit më të ndikshëm duke përdorur algoritme të centralitetit?"
   ]
  },
  {
   "cell_type": "code",
   "execution_count": null,
   "id": "fda7c7ce-8194-4365-8da0-17ee3656ea46",
   "metadata": {},
   "outputs": [],
   "source": [
    "# Apliko PageRank\n",
    "pagerank = graph.pageRank(resetProbability=0.15, maxIter=10)\n",
    "pagerank.vertices.orderBy(col(\"pagerank\").desc()).show(10, truncate=False)"
   ]
  },
  {
   "cell_type": "markdown",
   "id": "7eaae530-6e8d-4961-aa34-9fa495409f69",
   "metadata": {},
   "source": [
    "b) Si mund të përdoren grafët për të zbuluar grupe të ngjashme përdoruesish në një rrjet social?"
   ]
  },
  {
   "cell_type": "code",
   "execution_count": null,
   "id": "f2c9eba8-2666-4f17-b1d7-026eec51d7cd",
   "metadata": {},
   "outputs": [],
   "source": [
    "graph.edges.show()"
   ]
  },
  {
   "cell_type": "code",
   "execution_count": null,
   "id": "3cf3ace3-6177-4ecd-a84a-a9040ba2e8b6",
   "metadata": {},
   "outputs": [],
   "source": [
    "graph.vertices.show()"
   ]
  },
  {
   "cell_type": "code",
   "execution_count": null,
   "id": "95939c64-050d-4c66-8a55-f3fff18ae5c2",
   "metadata": {},
   "outputs": [],
   "source": [
    "connected_components = graph.connectedComponents()"
   ]
  },
  {
   "cell_type": "code",
   "execution_count": null,
   "id": "391eccdb-8c45-43a2-a785-1fa01c85d4d1",
   "metadata": {},
   "outputs": [],
   "source": [
    "# Gjej komponentët e lidhur\n",
    "spark.sparkContext.setCheckpointDir(r\"C:\\Big Data\\checkpoint\")\n",
    "graph = GraphFrame(vertices, edges)\n",
    "connected_components = graph.connectedComponents()\n",
    "connected_components.orderBy(\"component\").show(10, truncate=False)"
   ]
  },
  {
   "cell_type": "markdown",
   "id": "ac5fe66c-55ce-48c9-9e17-17d3c1ccca29",
   "metadata": {},
   "source": [
    "c) Si mund të përdorim algoritmet e përhapjes së informacionit për të analizuar shpërndarjen e lajmeve ose viruseve?"
   ]
  },
  {
   "cell_type": "code",
   "execution_count": null,
   "id": "d3f8e195-746c-4717-899a-c69a70c0df42",
   "metadata": {},
   "outputs": [],
   "source": [
    "# Apliko algoritmin e përhapjes së informacionit\n",
    "label_propagation = graph.labelPropagation(maxIter=5)\n",
    "label_propagation.orderBy(\"label\").show(10, truncate=False)"
   ]
  },
  {
   "cell_type": "markdown",
   "id": "8f209210-1c8a-4210-b54b-e53166d05940",
   "metadata": {},
   "source": [
    "d) Çfarë ndikimi ka heqja e një përdoruesi kyç në strukturën dhe stabilitetin e rrjetit social?"
   ]
  },
  {
   "cell_type": "code",
   "execution_count": null,
   "id": "48bea27d-bce0-4552-b09f-70d4d342d856",
   "metadata": {},
   "outputs": [],
   "source": [
    "# Hiq një përdorues nga grafi\n",
    "user_to_remove = \"0\"  # P.sh., përdoruesi me ID 0\n",
    "updated_edges = edges.filter((col(\"src\") != user_to_remove) & (col(\"dst\") != user_to_remove))\n",
    "updated_vertices = vertices.filter(col(\"id\") != user_to_remove)\n",
    "updated_graph = GraphFrame(updated_vertices, updated_edges)\n",
    "\n",
    "# Analizo strukturën e re\n",
    "updated_graph.connectedComponents().show()"
   ]
  },
  {
   "cell_type": "markdown",
   "id": "44e5a0d2-94ce-4f17-810e-ccfa12e542d8",
   "metadata": {},
   "source": [
    "e) Si mund të përdorim PageRank për të vlerësuar ndikimin e përdoruesve në një rrjet social?"
   ]
  },
  {
   "cell_type": "code",
   "execution_count": null,
   "id": "7bbae505-04bc-470f-9541-e58d11ef29d0",
   "metadata": {},
   "outputs": [],
   "source": []
  }
 ],
 "metadata": {
  "kernelspec": {
   "display_name": "Python 3 (ipykernel)",
   "language": "python",
   "name": "python3"
  },
  "language_info": {
   "codemirror_mode": {
    "name": "ipython",
    "version": 3
   },
   "file_extension": ".py",
   "mimetype": "text/x-python",
   "name": "python",
   "nbconvert_exporter": "python",
   "pygments_lexer": "ipython3",
   "version": "3.10.6"
  }
 },
 "nbformat": 4,
 "nbformat_minor": 5
}
