{
 "cells": [
  {
   "cell_type": "code",
   "execution_count": 44,
   "id": "6d6037f1-6a88-45e0-b6f6-ecad6c389350",
   "metadata": {},
   "outputs": [],
   "source": [
    "import pyspark"
   ]
  },
  {
   "cell_type": "code",
   "execution_count": 45,
   "id": "4da6e804-9b79-41ae-bb26-6a5a21626726",
   "metadata": {},
   "outputs": [],
   "source": [
    "from pyspark.sql import SparkSession"
   ]
  },
  {
   "cell_type": "code",
   "execution_count": 46,
   "id": "c0809608-01be-461a-8c29-90c2a31da3dc",
   "metadata": {},
   "outputs": [],
   "source": [
    "spark = SparkSession.builder.appName(\"SocialNetworkAnalysis\").config(\"spark.jars\", \"C:/Big Data/graphframes/graphframes-0.8.2-spark3.0-s_2.12.jar\").config(\"spark.driver.memory\", \"8g\").config(\"spark.executor.memory\", \"8g\").getOrCreate()"
   ]
  },
  {
   "cell_type": "code",
   "execution_count": 47,
   "id": "e433cb1f-7bbc-41ba-874b-795c1132faf2",
   "metadata": {},
   "outputs": [],
   "source": [
    "spark.conf.set(\"spark.sql.shuffle.partitions\", \"200\")"
   ]
  },
  {
   "cell_type": "code",
   "execution_count": 48,
   "id": "c552f5dd-e9ad-4e7b-88a7-237b7e361223",
   "metadata": {},
   "outputs": [
    {
     "data": {
      "text/html": [
       "\n",
       "            <div>\n",
       "                <p><b>SparkSession - in-memory</b></p>\n",
       "                \n",
       "        <div>\n",
       "            <p><b>SparkContext</b></p>\n",
       "\n",
       "            <p><a href=\"http://LAPTOP-0SN8DCT8:4040\">Spark UI</a></p>\n",
       "\n",
       "            <dl>\n",
       "              <dt>Version</dt>\n",
       "                <dd><code>v3.5.4</code></dd>\n",
       "              <dt>Master</dt>\n",
       "                <dd><code>local[*]</code></dd>\n",
       "              <dt>AppName</dt>\n",
       "                <dd><code>SocialNetworkAnalysis</code></dd>\n",
       "            </dl>\n",
       "        </div>\n",
       "        \n",
       "            </div>\n",
       "        "
      ],
      "text/plain": [
       "<pyspark.sql.session.SparkSession at 0x1d71eb61cc0>"
      ]
     },
     "execution_count": 48,
     "metadata": {},
     "output_type": "execute_result"
    }
   ],
   "source": [
    "spark"
   ]
  },
  {
   "cell_type": "code",
   "execution_count": 49,
   "id": "b3277fa7-39e6-47c9-b718-eb52f5b8008d",
   "metadata": {},
   "outputs": [],
   "source": [
    "spark.sparkContext.setCheckpointDir(r\"C:\\Master-Projects\\Social_Media_BigData\\checkpoints\")"
   ]
  },
  {
   "cell_type": "code",
   "execution_count": 50,
   "id": "b8bd7425-041c-40b9-89c7-11ecaaa3c7b4",
   "metadata": {},
   "outputs": [],
   "source": [
    "df = spark.read.text(\"facebook_combined.txt.gz\")"
   ]
  },
  {
   "cell_type": "code",
   "execution_count": 51,
   "id": "24c73271-61d7-47ad-81f3-34059d63d098",
   "metadata": {},
   "outputs": [
    {
     "name": "stdout",
     "output_type": "stream",
     "text": [
      "+-----+\n",
      "|value|\n",
      "+-----+\n",
      "|  0 1|\n",
      "|  0 2|\n",
      "|  0 3|\n",
      "|  0 4|\n",
      "|  0 5|\n",
      "|  0 6|\n",
      "|  0 7|\n",
      "|  0 8|\n",
      "|  0 9|\n",
      "| 0 10|\n",
      "| 0 11|\n",
      "| 0 12|\n",
      "| 0 13|\n",
      "| 0 14|\n",
      "| 0 15|\n",
      "| 0 16|\n",
      "| 0 17|\n",
      "| 0 18|\n",
      "| 0 19|\n",
      "| 0 20|\n",
      "+-----+\n",
      "only showing top 20 rows\n",
      "\n"
     ]
    }
   ],
   "source": [
    "df.show()"
   ]
  },
  {
   "cell_type": "code",
   "execution_count": 52,
   "id": "18981f6b-4450-48ef-8eda-743c0ef913a2",
   "metadata": {},
   "outputs": [],
   "source": [
    "from pyspark.sql.functions import split, col\n",
    "from graphframes import GraphFrame"
   ]
  },
  {
   "cell_type": "code",
   "execution_count": 53,
   "id": "6eff76fe-7d7c-4c18-8c88-92c49fbaa4b2",
   "metadata": {},
   "outputs": [],
   "source": [
    "edges = df.withColumn(\"src\", split(col(\"value\"), \" \")[0]).withColumn(\"dst\", split(col(\"value\"), \" \")[1]).select(\"src\", \"dst\")"
   ]
  },
  {
   "cell_type": "code",
   "execution_count": 54,
   "id": "b904956e-c49e-4a69-af05-82f5a2c84c39",
   "metadata": {},
   "outputs": [],
   "source": [
    "vertices = edges.select(col(\"src\").alias(\"id\")).union(edges.select(col(\"dst\").alias(\"id\"))).distinct()"
   ]
  },
  {
   "cell_type": "code",
   "execution_count": 55,
   "id": "467b25fc-1cb4-48bc-b4bb-c5064bf30c10",
   "metadata": {},
   "outputs": [],
   "source": [
    "graph = GraphFrame(vertices, edges)"
   ]
  },
  {
   "cell_type": "markdown",
   "id": "8b6a1999-2b28-4ad3-ac0e-c21e67005106",
   "metadata": {},
   "source": [
    "* a) Si mund të identifikojmë përdoruesit më të ndikshëm duke përdorur algoritme të centralitetit?"
   ]
  },
  {
   "cell_type": "code",
   "execution_count": 56,
   "id": "fda7c7ce-8194-4365-8da0-17ee3656ea46",
   "metadata": {},
   "outputs": [
    {
     "name": "stdout",
     "output_type": "stream",
     "text": [
      "+----+------------------+\n",
      "|id  |pagerank          |\n",
      "+----+------------------+\n",
      "|1911|40.173020035189126|\n",
      "|3434|38.21196968977279 |\n",
      "|2655|37.630247553347424|\n",
      "|1902|37.243511110381164|\n",
      "|1888|28.028255649535605|\n",
      "|2649|25.511310917057735|\n",
      "|1907|21.240971021534005|\n",
      "|3971|20.558757839388395|\n",
      "|2654|20.20063587309717 |\n",
      "|1910|17.551329484911413|\n",
      "+----+------------------+\n",
      "only showing top 10 rows\n",
      "\n"
     ]
    }
   ],
   "source": [
    "# Apliko PageRank\n",
    "pagerank = graph.pageRank(resetProbability=0.15, maxIter=10)\n",
    "pagerank.vertices.orderBy(col(\"pagerank\").desc()).show(10, truncate=False)"
   ]
  },
  {
   "cell_type": "markdown",
   "id": "7eaae530-6e8d-4961-aa34-9fa495409f69",
   "metadata": {},
   "source": [
    "b) Si mund të përdoren grafët për të zbuluar grupe të ngjashme përdoruesish në një rrjet social?"
   ]
  },
  {
   "cell_type": "code",
   "execution_count": 41,
   "id": "f2c9eba8-2666-4f17-b1d7-026eec51d7cd",
   "metadata": {},
   "outputs": [
    {
     "name": "stdout",
     "output_type": "stream",
     "text": [
      "+---+---+\n",
      "|src|dst|\n",
      "+---+---+\n",
      "|  0|  1|\n",
      "|  0|  2|\n",
      "|  0|  3|\n",
      "|  0|  4|\n",
      "|  0|  5|\n",
      "|  0|  6|\n",
      "|  0|  7|\n",
      "|  0|  8|\n",
      "|  0|  9|\n",
      "|  0| 10|\n",
      "|  0| 11|\n",
      "|  0| 12|\n",
      "|  0| 13|\n",
      "|  0| 14|\n",
      "|  0| 15|\n",
      "|  0| 16|\n",
      "|  0| 17|\n",
      "|  0| 18|\n",
      "|  0| 19|\n",
      "|  0| 20|\n",
      "+---+---+\n",
      "only showing top 20 rows\n",
      "\n"
     ]
    }
   ],
   "source": [
    "graph.edges.show()"
   ]
  },
  {
   "cell_type": "code",
   "execution_count": 42,
   "id": "3cf3ace3-6177-4ecd-a84a-a9040ba2e8b6",
   "metadata": {},
   "outputs": [
    {
     "name": "stdout",
     "output_type": "stream",
     "text": [
      "+----+\n",
      "|  id|\n",
      "+----+\n",
      "| 467|\n",
      "| 675|\n",
      "| 691|\n",
      "| 829|\n",
      "|1090|\n",
      "|1159|\n",
      "|1436|\n",
      "|1512|\n",
      "|1572|\n",
      "|2069|\n",
      "|2088|\n",
      "|2136|\n",
      "|2162|\n",
      "|2294|\n",
      "|2904|\n",
      "|3210|\n",
      "|3606|\n",
      "| 125|\n",
      "| 451|\n",
      "| 800|\n",
      "+----+\n",
      "only showing top 20 rows\n",
      "\n"
     ]
    }
   ],
   "source": [
    "graph.vertices.show()"
   ]
  },
  {
   "cell_type": "code",
   "execution_count": 57,
   "id": "95939c64-050d-4c66-8a55-f3fff18ae5c2",
   "metadata": {},
   "outputs": [
    {
     "ename": "Py4JJavaError",
     "evalue": "An error occurred while calling o277.run.\n: java.lang.OutOfMemoryError: Java heap space\r\n",
     "output_type": "error",
     "traceback": [
      "\u001b[1;31m---------------------------------------------------------------------------\u001b[0m",
      "\u001b[1;31mPy4JJavaError\u001b[0m                             Traceback (most recent call last)",
      "Cell \u001b[1;32mIn[57], line 1\u001b[0m\n\u001b[1;32m----> 1\u001b[0m connected_components \u001b[38;5;241m=\u001b[39m \u001b[43mgraph\u001b[49m\u001b[38;5;241;43m.\u001b[39;49m\u001b[43mconnectedComponents\u001b[49m\u001b[43m(\u001b[49m\u001b[43m)\u001b[49m\n",
      "File \u001b[1;32mC:\\Python310\\lib\\site-packages\\graphframes\\graphframe.py:319\u001b[0m, in \u001b[0;36mGraphFrame.connectedComponents\u001b[1;34m(self, algorithm, checkpointInterval, broadcastThreshold)\u001b[0m\n\u001b[0;32m    300\u001b[0m \u001b[38;5;28;01mdef\u001b[39;00m \u001b[38;5;21mconnectedComponents\u001b[39m(\u001b[38;5;28mself\u001b[39m, algorithm \u001b[38;5;241m=\u001b[39m \u001b[38;5;124m\"\u001b[39m\u001b[38;5;124mgraphframes\u001b[39m\u001b[38;5;124m\"\u001b[39m, checkpointInterval \u001b[38;5;241m=\u001b[39m \u001b[38;5;241m2\u001b[39m,\n\u001b[0;32m    301\u001b[0m                         broadcastThreshold \u001b[38;5;241m=\u001b[39m \u001b[38;5;241m1000000\u001b[39m):\n\u001b[0;32m    302\u001b[0m \u001b[38;5;250m    \u001b[39m\u001b[38;5;124;03m\"\"\"\u001b[39;00m\n\u001b[0;32m    303\u001b[0m \u001b[38;5;124;03m    Computes the connected components of the graph.\u001b[39;00m\n\u001b[0;32m    304\u001b[0m \n\u001b[1;32m   (...)\u001b[0m\n\u001b[0;32m    313\u001b[0m \u001b[38;5;124;03m    :return: DataFrame with new vertices column \"component\"\u001b[39;00m\n\u001b[0;32m    314\u001b[0m \u001b[38;5;124;03m    \"\"\"\u001b[39;00m\n\u001b[0;32m    315\u001b[0m     jdf \u001b[38;5;241m=\u001b[39m \u001b[38;5;28;43mself\u001b[39;49m\u001b[38;5;241;43m.\u001b[39;49m\u001b[43m_jvm_graph\u001b[49m\u001b[38;5;241;43m.\u001b[39;49m\u001b[43mconnectedComponents\u001b[49m\u001b[43m(\u001b[49m\u001b[43m)\u001b[49m\u001b[43m \u001b[49m\u001b[43m\\\u001b[49m\n\u001b[0;32m    316\u001b[0m \u001b[43m        \u001b[49m\u001b[38;5;241;43m.\u001b[39;49m\u001b[43msetAlgorithm\u001b[49m\u001b[43m(\u001b[49m\u001b[43malgorithm\u001b[49m\u001b[43m)\u001b[49m\u001b[43m \u001b[49m\u001b[43m\\\u001b[49m\n\u001b[0;32m    317\u001b[0m \u001b[43m        \u001b[49m\u001b[38;5;241;43m.\u001b[39;49m\u001b[43msetCheckpointInterval\u001b[49m\u001b[43m(\u001b[49m\u001b[43mcheckpointInterval\u001b[49m\u001b[43m)\u001b[49m\u001b[43m \u001b[49m\u001b[43m\\\u001b[49m\n\u001b[0;32m    318\u001b[0m \u001b[43m        \u001b[49m\u001b[38;5;241;43m.\u001b[39;49m\u001b[43msetBroadcastThreshold\u001b[49m\u001b[43m(\u001b[49m\u001b[43mbroadcastThreshold\u001b[49m\u001b[43m)\u001b[49m\u001b[43m \u001b[49m\u001b[43m\\\u001b[49m\n\u001b[1;32m--> 319\u001b[0m \u001b[43m        \u001b[49m\u001b[38;5;241;43m.\u001b[39;49m\u001b[43mrun\u001b[49m\u001b[43m(\u001b[49m\u001b[43m)\u001b[49m\n\u001b[0;32m    320\u001b[0m     \u001b[38;5;28;01mreturn\u001b[39;00m DataFrame(jdf, \u001b[38;5;28mself\u001b[39m\u001b[38;5;241m.\u001b[39m_sqlContext)\n",
      "File \u001b[1;32mC:\\Python310\\lib\\site-packages\\py4j\\java_gateway.py:1322\u001b[0m, in \u001b[0;36mJavaMember.__call__\u001b[1;34m(self, *args)\u001b[0m\n\u001b[0;32m   1316\u001b[0m command \u001b[38;5;241m=\u001b[39m proto\u001b[38;5;241m.\u001b[39mCALL_COMMAND_NAME \u001b[38;5;241m+\u001b[39m\\\n\u001b[0;32m   1317\u001b[0m     \u001b[38;5;28mself\u001b[39m\u001b[38;5;241m.\u001b[39mcommand_header \u001b[38;5;241m+\u001b[39m\\\n\u001b[0;32m   1318\u001b[0m     args_command \u001b[38;5;241m+\u001b[39m\\\n\u001b[0;32m   1319\u001b[0m     proto\u001b[38;5;241m.\u001b[39mEND_COMMAND_PART\n\u001b[0;32m   1321\u001b[0m answer \u001b[38;5;241m=\u001b[39m \u001b[38;5;28mself\u001b[39m\u001b[38;5;241m.\u001b[39mgateway_client\u001b[38;5;241m.\u001b[39msend_command(command)\n\u001b[1;32m-> 1322\u001b[0m return_value \u001b[38;5;241m=\u001b[39m \u001b[43mget_return_value\u001b[49m\u001b[43m(\u001b[49m\n\u001b[0;32m   1323\u001b[0m \u001b[43m    \u001b[49m\u001b[43manswer\u001b[49m\u001b[43m,\u001b[49m\u001b[43m \u001b[49m\u001b[38;5;28;43mself\u001b[39;49m\u001b[38;5;241;43m.\u001b[39;49m\u001b[43mgateway_client\u001b[49m\u001b[43m,\u001b[49m\u001b[43m \u001b[49m\u001b[38;5;28;43mself\u001b[39;49m\u001b[38;5;241;43m.\u001b[39;49m\u001b[43mtarget_id\u001b[49m\u001b[43m,\u001b[49m\u001b[43m \u001b[49m\u001b[38;5;28;43mself\u001b[39;49m\u001b[38;5;241;43m.\u001b[39;49m\u001b[43mname\u001b[49m\u001b[43m)\u001b[49m\n\u001b[0;32m   1325\u001b[0m \u001b[38;5;28;01mfor\u001b[39;00m temp_arg \u001b[38;5;129;01min\u001b[39;00m temp_args:\n\u001b[0;32m   1326\u001b[0m     \u001b[38;5;28;01mif\u001b[39;00m \u001b[38;5;28mhasattr\u001b[39m(temp_arg, \u001b[38;5;124m\"\u001b[39m\u001b[38;5;124m_detach\u001b[39m\u001b[38;5;124m\"\u001b[39m):\n",
      "File \u001b[1;32mC:\\Python310\\lib\\site-packages\\pyspark\\errors\\exceptions\\captured.py:179\u001b[0m, in \u001b[0;36mcapture_sql_exception.<locals>.deco\u001b[1;34m(*a, **kw)\u001b[0m\n\u001b[0;32m    177\u001b[0m \u001b[38;5;28;01mdef\u001b[39;00m \u001b[38;5;21mdeco\u001b[39m(\u001b[38;5;241m*\u001b[39ma: Any, \u001b[38;5;241m*\u001b[39m\u001b[38;5;241m*\u001b[39mkw: Any) \u001b[38;5;241m-\u001b[39m\u001b[38;5;241m>\u001b[39m Any:\n\u001b[0;32m    178\u001b[0m     \u001b[38;5;28;01mtry\u001b[39;00m:\n\u001b[1;32m--> 179\u001b[0m         \u001b[38;5;28;01mreturn\u001b[39;00m f(\u001b[38;5;241m*\u001b[39ma, \u001b[38;5;241m*\u001b[39m\u001b[38;5;241m*\u001b[39mkw)\n\u001b[0;32m    180\u001b[0m     \u001b[38;5;28;01mexcept\u001b[39;00m Py4JJavaError \u001b[38;5;28;01mas\u001b[39;00m e:\n\u001b[0;32m    181\u001b[0m         converted \u001b[38;5;241m=\u001b[39m convert_exception(e\u001b[38;5;241m.\u001b[39mjava_exception)\n",
      "File \u001b[1;32mC:\\Python310\\lib\\site-packages\\py4j\\protocol.py:326\u001b[0m, in \u001b[0;36mget_return_value\u001b[1;34m(answer, gateway_client, target_id, name)\u001b[0m\n\u001b[0;32m    324\u001b[0m value \u001b[38;5;241m=\u001b[39m OUTPUT_CONVERTER[\u001b[38;5;28mtype\u001b[39m](answer[\u001b[38;5;241m2\u001b[39m:], gateway_client)\n\u001b[0;32m    325\u001b[0m \u001b[38;5;28;01mif\u001b[39;00m answer[\u001b[38;5;241m1\u001b[39m] \u001b[38;5;241m==\u001b[39m REFERENCE_TYPE:\n\u001b[1;32m--> 326\u001b[0m     \u001b[38;5;28;01mraise\u001b[39;00m Py4JJavaError(\n\u001b[0;32m    327\u001b[0m         \u001b[38;5;124m\"\u001b[39m\u001b[38;5;124mAn error occurred while calling \u001b[39m\u001b[38;5;132;01m{0}\u001b[39;00m\u001b[38;5;132;01m{1}\u001b[39;00m\u001b[38;5;132;01m{2}\u001b[39;00m\u001b[38;5;124m.\u001b[39m\u001b[38;5;130;01m\\n\u001b[39;00m\u001b[38;5;124m\"\u001b[39m\u001b[38;5;241m.\u001b[39m\n\u001b[0;32m    328\u001b[0m         \u001b[38;5;28mformat\u001b[39m(target_id, \u001b[38;5;124m\"\u001b[39m\u001b[38;5;124m.\u001b[39m\u001b[38;5;124m\"\u001b[39m, name), value)\n\u001b[0;32m    329\u001b[0m \u001b[38;5;28;01melse\u001b[39;00m:\n\u001b[0;32m    330\u001b[0m     \u001b[38;5;28;01mraise\u001b[39;00m Py4JError(\n\u001b[0;32m    331\u001b[0m         \u001b[38;5;124m\"\u001b[39m\u001b[38;5;124mAn error occurred while calling \u001b[39m\u001b[38;5;132;01m{0}\u001b[39;00m\u001b[38;5;132;01m{1}\u001b[39;00m\u001b[38;5;132;01m{2}\u001b[39;00m\u001b[38;5;124m. Trace:\u001b[39m\u001b[38;5;130;01m\\n\u001b[39;00m\u001b[38;5;132;01m{3}\u001b[39;00m\u001b[38;5;130;01m\\n\u001b[39;00m\u001b[38;5;124m\"\u001b[39m\u001b[38;5;241m.\u001b[39m\n\u001b[0;32m    332\u001b[0m         \u001b[38;5;28mformat\u001b[39m(target_id, \u001b[38;5;124m\"\u001b[39m\u001b[38;5;124m.\u001b[39m\u001b[38;5;124m\"\u001b[39m, name, value))\n",
      "\u001b[1;31mPy4JJavaError\u001b[0m: An error occurred while calling o277.run.\n: java.lang.OutOfMemoryError: Java heap space\r\n"
     ]
    }
   ],
   "source": [
    "connected_components = graph.connectedComponents()"
   ]
  },
  {
   "cell_type": "code",
   "execution_count": null,
   "id": "391eccdb-8c45-43a2-a785-1fa01c85d4d1",
   "metadata": {},
   "outputs": [],
   "source": [
    "# Gjej komponentët e lidhur\n",
    "spark.sparkContext.setCheckpointDir(r\"C:\\Big Data\\checkpoint\")\n",
    "graph = GraphFrame(vertices, edges)\n",
    "connected_components = graph.connectedComponents()\n",
    "connected_components.orderBy(\"component\").show(10, truncate=False)"
   ]
  },
  {
   "cell_type": "markdown",
   "id": "ac5fe66c-55ce-48c9-9e17-17d3c1ccca29",
   "metadata": {},
   "source": [
    "c) Si mund të përdorim algoritmet e përhapjes së informacionit për të analizuar shpërndarjen e lajmeve ose viruseve?"
   ]
  },
  {
   "cell_type": "code",
   "execution_count": null,
   "id": "d3f8e195-746c-4717-899a-c69a70c0df42",
   "metadata": {},
   "outputs": [],
   "source": [
    "# Apliko algoritmin e përhapjes së informacionit\n",
    "label_propagation = graph.labelPropagation(maxIter=5)\n",
    "label_propagation.orderBy(\"label\").show(10, truncate=False)"
   ]
  },
  {
   "cell_type": "markdown",
   "id": "8f209210-1c8a-4210-b54b-e53166d05940",
   "metadata": {},
   "source": [
    "d) Çfarë ndikimi ka heqja e një përdoruesi kyç në strukturën dhe stabilitetin e rrjetit social?"
   ]
  },
  {
   "cell_type": "code",
   "execution_count": null,
   "id": "48bea27d-bce0-4552-b09f-70d4d342d856",
   "metadata": {},
   "outputs": [],
   "source": [
    "# Hiq një përdorues nga grafi\n",
    "user_to_remove = \"0\"  # P.sh., përdoruesi me ID 0\n",
    "updated_edges = edges.filter((col(\"src\") != user_to_remove) & (col(\"dst\") != user_to_remove))\n",
    "updated_vertices = vertices.filter(col(\"id\") != user_to_remove)\n",
    "updated_graph = GraphFrame(updated_vertices, updated_edges)\n",
    "\n",
    "# Analizo strukturën e re\n",
    "updated_graph.connectedComponents().show()"
   ]
  },
  {
   "cell_type": "markdown",
   "id": "44e5a0d2-94ce-4f17-810e-ccfa12e542d8",
   "metadata": {},
   "source": [
    "e) Si mund të përdorim PageRank për të vlerësuar ndikimin e përdoruesve në një rrjet social?"
   ]
  },
  {
   "cell_type": "code",
   "execution_count": null,
   "id": "7bbae505-04bc-470f-9541-e58d11ef29d0",
   "metadata": {},
   "outputs": [],
   "source": []
  }
 ],
 "metadata": {
  "kernelspec": {
   "display_name": "Python 3 (ipykernel)",
   "language": "python",
   "name": "python3"
  },
  "language_info": {
   "codemirror_mode": {
    "name": "ipython",
    "version": 3
   },
   "file_extension": ".py",
   "mimetype": "text/x-python",
   "name": "python",
   "nbconvert_exporter": "python",
   "pygments_lexer": "ipython3",
   "version": "3.10.6"
  }
 },
 "nbformat": 4,
 "nbformat_minor": 5
}
