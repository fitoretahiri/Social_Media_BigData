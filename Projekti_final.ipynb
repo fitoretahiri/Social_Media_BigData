{
 "cells": [
  {
   "cell_type": "code",
   "execution_count": 1,
   "id": "d7329870-e99e-4ddf-adcc-cb342d3e64ea",
   "metadata": {},
   "outputs": [],
   "source": [
    "from pyspark.sql import SparkSession\n",
    "from graphframes import GraphFrame"
   ]
  },
  {
   "cell_type": "code",
   "execution_count": 2,
   "id": "03109509",
   "metadata": {},
   "outputs": [
    {
     "data": {
      "text/html": [
       "\n",
       "            <div>\n",
       "                <p><b>SparkSession - in-memory</b></p>\n",
       "                \n",
       "        <div>\n",
       "            <p><b>SparkContext</b></p>\n",
       "\n",
       "            <p><a href=\"http://LAPTOP-0SN8DCT8:4040\">Spark UI</a></p>\n",
       "\n",
       "            <dl>\n",
       "              <dt>Version</dt>\n",
       "                <dd><code>v3.5.4</code></dd>\n",
       "              <dt>Master</dt>\n",
       "                <dd><code>local[*]</code></dd>\n",
       "              <dt>AppName</dt>\n",
       "                <dd><code>GraphFrames</code></dd>\n",
       "            </dl>\n",
       "        </div>\n",
       "        \n",
       "            </div>\n",
       "        "
      ],
      "text/plain": [
       "<pyspark.sql.session.SparkSession at 0x2442085a290>"
      ]
     },
     "execution_count": 2,
     "metadata": {},
     "output_type": "execute_result"
    }
   ],
   "source": [
    "spark = SparkSession.builder.appName(\"GraphFrames\").master(\"local[*]\")\\\n",
    "    .config(\"spark.jars.packages\", \"graphframes:graphframes:0.8.2-spark3.0-s_2.12\").getOrCreate()\n",
    "spark"
   ]
  },
  {
   "cell_type": "code",
   "execution_count": 3,
   "id": "a4b2bb31",
   "metadata": {},
   "outputs": [],
   "source": [
    "vertices_csv_path = \"facebook_vertices.csv\"\n",
    "edges_csv_path = \"facebook_edges.csv\"\n",
    "\n",
    "vertices = spark.read.csv(vertices_csv_path, header=True, inferSchema=True)\n",
    "edges = spark.read.csv(edges_csv_path, header=True, inferSchema=True)"
   ]
  },
  {
   "cell_type": "code",
   "execution_count": 4,
   "id": "4c581123",
   "metadata": {},
   "outputs": [
    {
     "name": "stderr",
     "output_type": "stream",
     "text": [
      "c:\\Python310\\lib\\site-packages\\pyspark\\sql\\dataframe.py:168: UserWarning: DataFrame.sql_ctx is an internal property, and will be removed in future releases. Use DataFrame.sparkSession instead.\n",
      "  warnings.warn(\n"
     ]
    }
   ],
   "source": [
    "g = GraphFrame(vertices, edges)"
   ]
  },
  {
   "cell_type": "code",
   "execution_count": 5,
   "id": "972de010",
   "metadata": {},
   "outputs": [
    {
     "name": "stderr",
     "output_type": "stream",
     "text": [
      "c:\\Python310\\lib\\site-packages\\pyspark\\sql\\dataframe.py:147: UserWarning: DataFrame constructor is internal. Do not directly use it.\n",
      "  warnings.warn(\"DataFrame constructor is internal. Do not directly use it.\")\n"
     ]
    },
    {
     "name": "stdout",
     "output_type": "stream",
     "text": [
      "+---+------------------+\n",
      "| id|          pagerank|\n",
      "+---+------------------+\n",
      "|143|1.8688906932154679|\n",
      "| 53| 1.862280827337311|\n",
      "|301|1.6765667360032137|\n",
      "| 42|1.6765667360032137|\n",
      "|312|1.6596539296200101|\n",
      "|343|1.5256099594417722|\n",
      "|111|1.3903143531621407|\n",
      "|115|  1.37232062377254|\n",
      "|200|1.3449475249152258|\n",
      "|326| 1.313344048132692|\n",
      "+---+------------------+\n",
      "only showing top 10 rows\n",
      "\n"
     ]
    }
   ],
   "source": [
    "# (a) Identifying influential users using PageRank\n",
    "pagerank_results = g.pageRank(resetProbability=0.15, tol=0.01)\n",
    "pagerank_results.vertices.orderBy(\"pagerank\", ascending=False).show(10)"
   ]
  },
  {
   "cell_type": "code",
   "execution_count": 10,
   "id": "6a941b8a",
   "metadata": {},
   "outputs": [
    {
     "name": "stderr",
     "output_type": "stream",
     "text": [
      "c:\\Python310\\lib\\site-packages\\pyspark\\sql\\dataframe.py:147: UserWarning: DataFrame constructor is internal. Do not directly use it.\n",
      "  warnings.warn(\"DataFrame constructor is internal. Do not directly use it.\")\n"
     ]
    },
    {
     "name": "stdout",
     "output_type": "stream",
     "text": [
      "+---+---------+\n",
      "| id|component|\n",
      "+---+---------+\n",
      "|266|        0|\n",
      "|245|        0|\n",
      "| 10|        0|\n",
      "|264|        0|\n",
      "|323|        0|\n",
      "|346|        0|\n",
      "| 72|        0|\n",
      "| 37|        0|\n",
      "|230|        0|\n",
      "|272|        0|\n",
      "+---+---------+\n",
      "only showing top 10 rows\n",
      "\n"
     ]
    }
   ],
   "source": [
    "spark.sparkContext.setCheckpointDir(\"C:/Big Data/checkpoints\")\n",
    "components = g.connectedComponents(algorithm = \"graphframes\", checkpointInterval=10)\n",
    "components.select(\"id\", \"component\").orderBy(\"component\").show(10)"
   ]
  },
  {
   "cell_type": "code",
   "execution_count": 11,
   "id": "825082d3",
   "metadata": {},
   "outputs": [
    {
     "name": "stdout",
     "output_type": "stream",
     "text": [
      "+---+-----+\n",
      "|id |label|\n",
      "+---+-----+\n",
      "|201|8    |\n",
      "|91 |8    |\n",
      "|110|8    |\n",
      "|193|8    |\n",
      "|259|8    |\n",
      "|264|8    |\n",
      "|245|8    |\n",
      "|99 |23   |\n",
      "|267|23   |\n",
      "|124|23   |\n",
      "+---+-----+\n",
      "only showing top 10 rows\n",
      "\n"
     ]
    }
   ],
   "source": [
    "# Apliko algoritmin e përhapjes së informacionit\n",
    "label_propagation = g.labelPropagation(maxIter=5)\n",
    "label_propagation.orderBy(\"label\").show(10, truncate=False)"
   ]
  },
  {
   "cell_type": "code",
   "execution_count": 12,
   "id": "7145a0df",
   "metadata": {},
   "outputs": [
    {
     "name": "stderr",
     "output_type": "stream",
     "text": [
      "c:\\Python310\\lib\\site-packages\\pyspark\\sql\\dataframe.py:168: UserWarning: DataFrame.sql_ctx is an internal property, and will be removed in future releases. Use DataFrame.sparkSession instead.\n",
      "  warnings.warn(\n"
     ]
    },
    {
     "name": "stdout",
     "output_type": "stream",
     "text": [
      "Graph size after removing user 1:\n",
      "Vertices: 350\n",
      "Edges: 983\n"
     ]
    }
   ],
   "source": [
    "# (d) Impact of removing a key user\n",
    "def remove_user(graph, user_id):\n",
    "    new_vertices = graph.vertices.filter(f\"id != '{user_id}'\")\n",
    "    new_edges = graph.edges.filter(f\"src != '{user_id}' AND dst != '{user_id}'\")\n",
    "    return GraphFrame(new_vertices, new_edges)\n",
    "\n",
    "graph_without_user = remove_user(g, '1')\n",
    "print(\"Graph size after removing user 1:\")\n",
    "print(\"Vertices:\", graph_without_user.vertices.count())\n",
    "print(\"Edges:\", graph_without_user.edges.count())"
   ]
  },
  {
   "cell_type": "code",
   "execution_count": 14,
   "id": "35afd258",
   "metadata": {},
   "outputs": [
    {
     "name": "stderr",
     "output_type": "stream",
     "text": [
      "c:\\Python310\\lib\\site-packages\\pyspark\\sql\\dataframe.py:147: UserWarning: DataFrame constructor is internal. Do not directly use it.\n",
      "  warnings.warn(\"DataFrame constructor is internal. Do not directly use it.\")\n"
     ]
    },
    {
     "name": "stdout",
     "output_type": "stream",
     "text": [
      "Connected components after removing user 1:\n",
      "+---+---------+\n",
      "| id|component|\n",
      "+---+---------+\n",
      "|266|        0|\n",
      "|245|        0|\n",
      "| 10|        0|\n",
      "|264|        0|\n",
      "|323|        0|\n",
      "|346|        0|\n",
      "| 72|        0|\n",
      "| 37|        0|\n",
      "|230|        0|\n",
      "|272|        0|\n",
      "+---+---------+\n",
      "only showing top 10 rows\n",
      "\n"
     ]
    }
   ],
   "source": [
    "graph_without_user_connected_components = graph_without_user.connectedComponents(algorithm = \"graphframes\", checkpointInterval=10)\n",
    "print(\"Connected components after removing user 1:\")\n",
    "graph_without_user_connected_components.select(\"id\", \"component\").orderBy(\"component\").show(10)"
   ]
  },
  {
   "cell_type": "code",
   "execution_count": null,
   "id": "0144604c",
   "metadata": {},
   "outputs": [],
   "source": []
  }
 ],
 "metadata": {
  "kernelspec": {
   "display_name": "Python 3",
   "language": "python",
   "name": "python3"
  },
  "language_info": {
   "codemirror_mode": {
    "name": "ipython",
    "version": 3
   },
   "file_extension": ".py",
   "mimetype": "text/x-python",
   "name": "python",
   "nbconvert_exporter": "python",
   "pygments_lexer": "ipython3",
   "version": "3.10.6"
  }
 },
 "nbformat": 4,
 "nbformat_minor": 5
}
